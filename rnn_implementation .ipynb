{
 "cells": [
  {
   "cell_type": "code",
   "execution_count": 3,
   "id": "d3a175a7",
   "metadata": {},
   "outputs": [],
   "source": [
    "class MyRNN(tf.keras.layers.Layer):\n",
    "    def __init__(self, units):\n",
    "        super(MyRNN, self).__init__()\n",
    "        self.units = units\n",
    "\n",
    "    def build(self, input_shape):\n",
    "        self.W_hh = self.add_weight(shape=(self.units, self.units),\n",
    "                                    initializer='random_normal',\n",
    "                                    trainable=True)\n",
    "        self.W_xh = self.add_weight(shape=(input_shape[-1], self.units),\n",
    "                                    initializer='random_normal',\n",
    "                                    trainable=True)\n",
    "        self.b_h = self.add_weight(shape=(self.units,),\n",
    "                                   initializer='zeros',\n",
    "                                   trainable=True)\n",
    "\n",
    "    def call(self, inputs, states):\n",
    "        prev_h = states[0]\n",
    "        h = tf.math.tanh(tf.matmul(inputs, self.W_xh) + tf.matmul(prev_h, self.W_hh) + self.b_h)\n",
    "        return h, [h]"
   ]
  },
  {
   "cell_type": "code",
   "execution_count": 2,
   "id": "a72ed707",
   "metadata": {},
   "outputs": [
    {
     "name": "stderr",
     "output_type": "stream",
     "text": [
      "Matplotlib is building the font cache; this may take a moment.\n"
     ]
    }
   ],
   "source": [
    "import numpy as np\n",
    "import tensorflow as tf\n",
    "from tensorflow import keras\n",
    "from tensorflow.keras import layers\n",
    "from tensorflow.keras.models import Sequential"
   ]
  }
 ],
 "metadata": {
  "kernelspec": {
   "display_name": "Python 3",
   "language": "python",
   "name": "python3"
  },
  "language_info": {
   "codemirror_mode": {
    "name": "ipython",
    "version": 3
   },
   "file_extension": ".py",
   "mimetype": "text/x-python",
   "name": "python",
   "nbconvert_exporter": "python",
   "pygments_lexer": "ipython3",
   "version": "3.13.5"
  }
 },
 "nbformat": 4,
 "nbformat_minor": 5
}
