{
 "cells": [
  {
   "cell_type": "code",
   "execution_count": 1,
   "id": "e2f584f4",
   "metadata": {
    "execution": {
     "iopub.execute_input": "2025-08-12T19:55:44.678541Z",
     "iopub.status.busy": "2025-08-12T19:55:44.677363Z",
     "iopub.status.idle": "2025-08-12T19:56:29.127977Z",
     "shell.execute_reply": "2025-08-12T19:56:29.126855Z"
    },
    "papermill": {
     "duration": 44.457351,
     "end_time": "2025-08-12T19:56:29.130040",
     "exception": false,
     "start_time": "2025-08-12T19:55:44.672689",
     "status": "completed"
    },
    "tags": []
   },
   "outputs": [
    {
     "name": "stdout",
     "output_type": "stream",
     "text": [
      "Iteration 0: Accuracy = 0.0745\n",
      "Iteration 10: Accuracy = 0.1544\n",
      "Iteration 20: Accuracy = 0.1745\n",
      "Iteration 30: Accuracy = 0.2356\n",
      "Iteration 40: Accuracy = 0.2751\n",
      "Iteration 50: Accuracy = 0.2433\n",
      "Iteration 60: Accuracy = 0.2433\n",
      "Iteration 70: Accuracy = 0.3572\n",
      "Iteration 80: Accuracy = 0.4608\n",
      "Iteration 90: Accuracy = 0.5839\n",
      "Iteration 100: Accuracy = 0.6264\n",
      "Iteration 110: Accuracy = 0.6410\n",
      "Iteration 120: Accuracy = 0.6592\n",
      "Iteration 130: Accuracy = 0.6828\n",
      "Iteration 140: Accuracy = 0.7094\n",
      "Iteration 150: Accuracy = 0.7337\n",
      "Iteration 160: Accuracy = 0.7561\n",
      "Iteration 170: Accuracy = 0.7756\n",
      "Iteration 180: Accuracy = 0.7928\n",
      "Iteration 190: Accuracy = 0.8077\n",
      "Iteration 200: Accuracy = 0.8199\n",
      "Iteration 210: Accuracy = 0.8287\n",
      "Iteration 220: Accuracy = 0.8369\n",
      "Iteration 230: Accuracy = 0.8440\n",
      "Iteration 240: Accuracy = 0.8495\n",
      "Iteration 250: Accuracy = 0.8542\n",
      "Iteration 260: Accuracy = 0.8580\n",
      "Iteration 270: Accuracy = 0.8619\n",
      "Iteration 280: Accuracy = 0.8648\n",
      "Iteration 290: Accuracy = 0.8671\n",
      "Iteration 300: Accuracy = 0.8693\n",
      "Iteration 310: Accuracy = 0.8712\n",
      "Iteration 320: Accuracy = 0.8734\n",
      "Iteration 330: Accuracy = 0.8753\n",
      "Iteration 340: Accuracy = 0.8772\n",
      "Iteration 350: Accuracy = 0.8785\n",
      "Iteration 360: Accuracy = 0.8798\n",
      "Iteration 370: Accuracy = 0.8810\n",
      "Iteration 380: Accuracy = 0.8822\n",
      "Iteration 390: Accuracy = 0.8833\n",
      "Iteration 400: Accuracy = 0.8845\n",
      "Iteration 410: Accuracy = 0.8857\n",
      "Iteration 420: Accuracy = 0.8867\n",
      "Iteration 430: Accuracy = 0.8879\n",
      "Iteration 440: Accuracy = 0.8888\n",
      "Iteration 450: Accuracy = 0.8895\n",
      "Iteration 460: Accuracy = 0.8904\n",
      "Iteration 470: Accuracy = 0.8914\n",
      "Iteration 480: Accuracy = 0.8919\n",
      "Iteration 490: Accuracy = 0.8927\n"
     ]
    }
   ],
   "source": [
    "import numpy as np\n",
    "import pandas as pd\n",
    "\n",
    "# Load and preprocess\n",
    "data = pd.read_csv('/kaggle/input/digit-recognizer/train.csv').to_numpy()\n",
    "m, n = data.shape\n",
    "\n",
    "# Shuffle & split\n",
    "np.random.shuffle(data)\n",
    "data_dev = data[0:1000].T\n",
    "Y_dev = data_dev[0]\n",
    "X_dev = data_dev[1:n] / 255.0\n",
    "data_train = data[1000:m].T\n",
    "Y_train = data_train[0]\n",
    "X_train = data_train[1:n] / 255.0\n",
    "\n",
    "# Activation functions\n",
    "def ReLU(z):\n",
    "    return np.maximum(0, z)\n",
    "\n",
    "def derivative_relu(Z):\n",
    "    return Z > 0\n",
    "\n",
    "def softmax(z):\n",
    "    exp_z = np.exp(z - np.max(z, axis=0, keepdims=True))\n",
    "    return exp_z / np.sum(exp_z, axis=0, keepdims=True)\n",
    "\n",
    "# One-hot encoding\n",
    "def one_hot(Y):\n",
    "    one_hot_Y = np.zeros((Y.max() + 1, Y.size))\n",
    "    one_hot_Y[Y, np.arange(Y.size)] = 1\n",
    "    return one_hot_Y\n",
    "\n",
    "# Initialize parameters\n",
    "def init_params():\n",
    "    w1 = np.random.randn(10, 784) * 0.01\n",
    "    b1 = np.zeros((10, 1))\n",
    "    w2 = np.random.randn(10, 10) * 0.01\n",
    "    b2 = np.zeros((10, 1))\n",
    "    return w1, b1, w2, b2\n",
    "\n",
    "# Forward propagation\n",
    "def forward_prop(w1, b1, w2, b2, X):\n",
    "    Z1 = w1.dot(X) + b1\n",
    "    a1 = ReLU(Z1)\n",
    "    Z2 = w2.dot(a1) + b2\n",
    "    a2 = softmax(Z2)\n",
    "    return Z1, a1, Z2, a2\n",
    "\n",
    "# Backward propagation\n",
    "def back_prop(Z1, a1, a2, w2, Y, X):\n",
    "    m = X.shape[1]\n",
    "    one_hot_Y = one_hot(Y)\n",
    "    dz2 = a2 - one_hot_Y\n",
    "    dw2 = (1/m) * dz2.dot(a1.T)\n",
    "    db2 = (1/m) * np.sum(dz2, axis=1, keepdims=True)\n",
    "    dz1 = w2.T.dot(dz2) * derivative_relu(Z1)\n",
    "    dw1 = (1/m) * dz1.dot(X.T)\n",
    "    db1 = (1/m) * np.sum(dz1, axis=1, keepdims=True)\n",
    "    return dw1, db1, dw2, db2\n",
    "\n",
    "# Update parameters\n",
    "def update_params(w1, b1, w2, b2, dw1, db1, dw2, db2, alpha):\n",
    "    w1 -= alpha * dw1\n",
    "    b1 -= alpha * db1\n",
    "    w2 -= alpha * dw2\n",
    "    b2 -= alpha * db2\n",
    "    return w1, b1, w2, b2\n",
    "\n",
    "# Prediction and accuracy\n",
    "def get_prediction(a2):\n",
    "    return np.argmax(a2, axis=0)\n",
    "\n",
    "def get_accuracy(predictions, Y):\n",
    "    return np.mean(predictions == Y)\n",
    "\n",
    "# Training loop\n",
    "def gradient_descent(X, Y, iterations, alpha):\n",
    "    w1, b1, w2, b2 = init_params()\n",
    "    for i in range(iterations):\n",
    "        Z1, a1, Z2, a2 = forward_prop(w1, b1, w2, b2, X)\n",
    "        dw1, db1, dw2, db2 = back_prop(Z1, a1, a2, w2, Y, X)\n",
    "        w1, b1, w2, b2 = update_params(w1, b1, w2, b2, dw1, db1, dw2, db2, alpha)\n",
    "        \n",
    "        if i % 10 == 0:\n",
    "            acc = get_accuracy(get_prediction(a2), Y)\n",
    "            print(f\"Iteration {i}: Accuracy = {acc:.4f}\")\n",
    "    return w1, b1, w2, b2\n",
    "\n",
    "# Run training\n",
    "w1, b1, w2, b2 = gradient_descent(X_train, Y_train, iterations=500, alpha=0.1)\n"
   ]
  },
  {
   "cell_type": "code",
   "execution_count": 2,
   "id": "ab134506",
   "metadata": {
    "execution": {
     "iopub.execute_input": "2025-08-12T19:56:29.141976Z",
     "iopub.status.busy": "2025-08-12T19:56:29.141583Z",
     "iopub.status.idle": "2025-08-12T19:56:29.149243Z",
     "shell.execute_reply": "2025-08-12T19:56:29.148178Z"
    },
    "papermill": {
     "duration": 0.015433,
     "end_time": "2025-08-12T19:56:29.150905",
     "exception": false,
     "start_time": "2025-08-12T19:56:29.135472",
     "status": "completed"
    },
    "tags": []
   },
   "outputs": [],
   "source": [
    "import matplotlib.pyplot as plt\n",
    "\n",
    "\n",
    "def make_predictions(X, w1, b1, w2, b2):\n",
    "    _, _, _, a2 = forward_prop(w1, b1, w2, b2, X)\n",
    "    return get_prediction(a2)\n",
    "\n",
    "def test_prediction(index, w1, b1, w2, b2):\n",
    "    current_image = X_train[:, index, None]  # keep column shape\n",
    "    prediction = make_predictions(current_image, w1, b1, w2, b2)\n",
    "    label = Y_train[index]\n",
    "    \n",
    "    print(f\"Prediction: {prediction}\")\n",
    "    print(f\"Label: {label}\")\n",
    "    \n",
    "    # show the digit\n",
    "    image = current_image.reshape((28, 28)) * 255\n",
    "    plt.imshow(image, cmap='gray', interpolation='nearest')\n",
    "    plt.show()\n",
    "\n"
   ]
  },
  {
   "cell_type": "code",
   "execution_count": 3,
   "id": "6fe5e852",
   "metadata": {
    "execution": {
     "iopub.execute_input": "2025-08-12T19:56:29.161902Z",
     "iopub.status.busy": "2025-08-12T19:56:29.161594Z",
     "iopub.status.idle": "2025-08-12T19:56:29.563961Z",
     "shell.execute_reply": "2025-08-12T19:56:29.562109Z"
    },
    "papermill": {
     "duration": 0.411081,
     "end_time": "2025-08-12T19:56:29.566809",
     "exception": false,
     "start_time": "2025-08-12T19:56:29.155728",
     "status": "completed"
    },
    "tags": []
   },
   "outputs": [
    {
     "name": "stdout",
     "output_type": "stream",
     "text": [
      "Prediction: [6]\n",
      "Label: 6\n"
     ]
    },
    {
     "data": {
      "image/png": "[encoded data removed]",
      "text/plain": [
       "<Figure size 640x480 with 1 Axes>"
      ]
     },
     "metadata": {},
     "output_type": "display_data"
    }
   ],
   "source": [
    "test_prediction(99,w1,b1,w2,b2)"
   ]
  },
  {
   "cell_type": "code",
   "execution_count": null,
   "id": "6d5a6f4b",
   "metadata": {
    "papermill": {
     "duration": 0.005503,
     "end_time": "2025-08-12T19:56:29.578092",
     "exception": false,
     "start_time": "2025-08-12T19:56:29.572589",
     "status": "completed"
    },
    "tags": []
   },
   "outputs": [],
   "source": []
  }
 ],
 "metadata": {
  "kaggle": {
   "accelerator": "none",
   "dataSources": [
    {
     "databundleVersionId": 861823,
     "sourceId": 3004,
     "sourceType": "competition"
    }
   ],
   "dockerImageVersionId": 31089,
   "isGpuEnabled": false,
   "isInternetEnabled": true,
   "language": "python",
   "sourceType": "notebook"
  },
  "kernelspec": {
   "display_name": "Python 3",
   "language": "python",
   "name": "python3"
  },
  "language_info": {
   "codemirror_mode": {
    "name": "ipython",
    "version": 3
   },
   "file_extension": ".py",
   "mimetype": "text/x-python",
   "name": "python",
   "nbconvert_exporter": "python",
   "pygments_lexer": "ipython3",
   "version": "3.11.13"
  },
  "papermill": {
   "default_parameters": {},
   "duration": 54.660751,
   "end_time": "2025-08-12T19:56:30.308197",
   "environment_variables": {},
   "exception": null,
   "input_path": "__notebook__.ipynb",
   "output_path": "__notebook__.ipynb",
   "parameters": {},
   "start_time": "2025-08-12T19:55:35.647446",
   "version": "2.6.0"
  }
 },
 "nbformat": 4,
 "nbformat_minor": 5
}
