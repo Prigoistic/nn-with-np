{
 "cells": [
  {
   "cell_type": "code",
   "execution_count": null,
   "id": "f9efb66b",
   "metadata": {},
   "outputs": [],
   "source": [
    "def generate_cnn():\n",
    "    model = tf.keras.layers.Sequential([\n",
    "        tf.keras.layers.Conv2D(32, filter_size=\"3\", activation='relu'),\n",
    "        tf.keras.layers.MaxPool2D(pool_size=2,strides=2),\n",
    "\n",
    "        tf.keras.layers.Conv2D(64, filter_size=\"3\", activation='relu'),\n",
    "        tf.keras.layers.MaxPool2D(pool_size=2,strides=2),\n",
    "\n",
    "        tf.keras.layers.Flatten(),\n",
    "        tf.keras.layers.Dense(1024,activation='relu'),\n",
    "        tf.keras.layers.Dense(10,activation='softmax')  \n",
    "    ])\n",
    "\n",
    "    return model\n",
    "\n"
   ]
  },
  {
   "cell_type": "code",
   "execution_count": 1,
   "id": "d3ef1544",
   "metadata": {},
   "outputs": [],
   "source": [
    "import tensorflow as tf"
   ]
  }
 ],
 "metadata": {
  "kernelspec": {
   "display_name": "Python 3",
   "language": "python",
   "name": "python3"
  },
  "language_info": {
   "codemirror_mode": {
    "name": "ipython",
    "version": 3
   },
   "file_extension": ".py",
   "mimetype": "text/x-python",
   "name": "python",
   "nbconvert_exporter": "python",
   "pygments_lexer": "ipython3",
   "version": "3.13.5"
  }
 },
 "nbformat": 4,
 "nbformat_minor": 5
}
