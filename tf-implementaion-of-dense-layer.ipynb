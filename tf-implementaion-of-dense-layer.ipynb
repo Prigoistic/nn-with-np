{
 "cells": [
  {
   "cell_type": "code",
   "execution_count": 1,
   "id": "23a1c79b",
   "metadata": {
    "_cell_guid": "b1076dfc-b9ad-4769-8c92-a6c4dae69d19",
    "_uuid": "8f2839f25d086af736a60e9eeb907d3b93b6e0e5",
    "execution": {
     "iopub.execute_input": "2025-09-18T21:18:19.171860Z",
     "iopub.status.busy": "2025-09-18T21:18:19.171480Z",
     "iopub.status.idle": "2025-09-18T21:18:21.462210Z",
     "shell.execute_reply": "2025-09-18T21:18:21.461003Z"
    },
    "papermill": {
     "duration": 2.297026,
     "end_time": "2025-09-18T21:18:21.464545",
     "exception": false,
     "start_time": "2025-09-18T21:18:19.167519",
     "status": "completed"
    },
    "tags": []
   },
   "outputs": [],
   "source": [
    "# This Python 3 environment comes with many helpful analytics libraries installed\n",
    "# It is defined by the kaggle/python Docker image: https://github.com/kaggle/docker-python\n",
    "# For example, here's several helpful packages to load\n",
    "\n",
    "import numpy as np # linear algebra\n",
    "import pandas as pd # data processing, CSV file I/O (e.g. pd.read_csv)\n",
    "\n",
    "# Input data files are available in the read-only \"../input/\" directory\n",
    "# For example, running this (by clicking run or pressing Shift+Enter) will list all files under the input directory\n",
    "\n",
    "import os\n",
    "for dirname, _, filenames in os.walk('/kaggle/input'):\n",
    "    for filename in filenames:\n",
    "        print(os.path.join(dirname, filename))\n",
    "\n",
    "# You can write up to 20GB to the current directory (/kaggle/working/) that gets preserved as output when you create a version using \"Save & Run All\" \n",
    "# You can also write temporary files to /kaggle/temp/, but they won't be saved outside of the current session"
   ]
  },
  {
   "cell_type": "code",
   "execution_count": 2,
   "id": "f08e49cb",
   "metadata": {
    "execution": {
     "iopub.execute_input": "2025-09-18T21:18:21.470248Z",
     "iopub.status.busy": "2025-09-18T21:18:21.469855Z",
     "iopub.status.idle": "2025-09-18T21:18:43.758165Z",
     "shell.execute_reply": "2025-09-18T21:18:43.757017Z"
    },
    "papermill": {
     "duration": 22.293155,
     "end_time": "2025-09-18T21:18:43.760028",
     "exception": false,
     "start_time": "2025-09-18T21:18:21.466873",
     "status": "completed"
    },
    "tags": []
   },
   "outputs": [
    {
     "name": "stderr",
     "output_type": "stream",
     "text": [
      "2025-09-18 21:18:23.806137: E external/local_xla/xla/stream_executor/cuda/cuda_fft.cc:477] Unable to register cuFFT factory: Attempting to register factory for plugin cuFFT when one has already been registered\n",
      "WARNING: All log messages before absl::InitializeLog() is called are written to STDERR\n",
      "E0000 00:00:1758230304.105479      13 cuda_dnn.cc:8310] Unable to register cuDNN factory: Attempting to register factory for plugin cuDNN when one has already been registered\n",
      "E0000 00:00:1758230304.189717      13 cuda_blas.cc:1418] Unable to register cuBLAS factory: Attempting to register factory for plugin cuBLAS when one has already been registered\n"
     ]
    }
   ],
   "source": [
    "import tensorflow as tf\n",
    "from tensorflow import keras\n",
    "from tensorflow.keras import layers\n"
   ]
  },
  {
   "cell_type": "code",
   "execution_count": 3,
   "id": "9daa1778",
   "metadata": {
    "execution": {
     "iopub.execute_input": "2025-09-18T21:18:43.766136Z",
     "iopub.status.busy": "2025-09-18T21:18:43.765535Z",
     "iopub.status.idle": "2025-09-18T21:18:43.773665Z",
     "shell.execute_reply": "2025-09-18T21:18:43.772508Z"
    },
    "papermill": {
     "duration": 0.013122,
     "end_time": "2025-09-18T21:18:43.775530",
     "exception": false,
     "start_time": "2025-09-18T21:18:43.762408",
     "status": "completed"
    },
    "tags": []
   },
   "outputs": [],
   "source": [
    "import tensorflow as tf\n",
    "\n",
    "class MyDenseLayer(tf.keras.layers.Layer):\n",
    "    def __init__(self, input_dim, output_dim):\n",
    "        super(MyDenseLayer, self).__init__()\n",
    "        self.W = self.add_weight(\n",
    "            shape=(input_dim, output_dim),\n",
    "            initializer=\"random_normal\",\n",
    "            trainable=True\n",
    "        )\n",
    "        self.b = self.add_weight(\n",
    "            shape=(output_dim,),\n",
    "            initializer=\"zeros\",\n",
    "            trainable=True\n",
    "        )\n",
    "\n",
    "    def call(self, inputs):\n",
    "        z = tf.matmul(inputs, self.W) + self.b\n",
    "        output = tf.sigmoid(z)\n",
    "        return output\n"
   ]
  },
  {
   "cell_type": "code",
   "execution_count": 4,
   "id": "c90e8a28",
   "metadata": {
    "execution": {
     "iopub.execute_input": "2025-09-18T21:18:43.780974Z",
     "iopub.status.busy": "2025-09-18T21:18:43.780614Z",
     "iopub.status.idle": "2025-09-18T21:18:43.938014Z",
     "shell.execute_reply": "2025-09-18T21:18:43.936790Z"
    },
    "papermill": {
     "duration": 0.161752,
     "end_time": "2025-09-18T21:18:43.939504",
     "exception": false,
     "start_time": "2025-09-18T21:18:43.777752",
     "status": "completed"
    },
    "tags": []
   },
   "outputs": [
    {
     "name": "stdout",
     "output_type": "stream",
     "text": [
      "tf.Tensor(\n",
      "[[0.529462   0.525783   0.51158434]\n",
      " [0.4909998  0.49074456 0.5002049 ]], shape=(2, 3), dtype=float32)\n"
     ]
    },
    {
     "name": "stderr",
     "output_type": "stream",
     "text": [
      "2025-09-18 21:18:43.787637: E external/local_xla/xla/stream_executor/cuda/cuda_driver.cc:152] failed call to cuInit: INTERNAL: CUDA error: Failed call to cuInit: UNKNOWN ERROR (303)\n"
     ]
    }
   ],
   "source": [
    "layer = MyDenseLayer(input_dim=4,output_dim=3)\n",
    "x = tf.random.normal((2,4))\n",
    "y = layer(x)\n",
    "print(y)"
   ]
  }
 ],
 "metadata": {
  "kaggle": {
   "accelerator": "none",
   "dataSources": [],
   "dockerImageVersionId": 31089,
   "isGpuEnabled": false,
   "isInternetEnabled": true,
   "language": "python",
   "sourceType": "notebook"
  },
  "kernelspec": {
   "display_name": "Python 3",
   "language": "python",
   "name": "python3"
  },
  "language_info": {
   "codemirror_mode": {
    "name": "ipython",
    "version": 3
   },
   "file_extension": ".py",
   "mimetype": "text/x-python",
   "name": "python",
   "nbconvert_exporter": "python",
   "pygments_lexer": "ipython3",
   "version": "3.11.13"
  },
  "papermill": {
   "default_parameters": {},
   "duration": 35.177315,
   "end_time": "2025-09-18T21:18:47.400674",
   "environment_variables": {},
   "exception": null,
   "input_path": "__notebook__.ipynb",
   "output_path": "__notebook__.ipynb",
   "parameters": {},
   "start_time": "2025-09-18T21:18:12.223359",
   "version": "2.6.0"
  }
 },
 "nbformat": 4,
 "nbformat_minor": 5
}
